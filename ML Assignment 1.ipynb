{
 "cells": [
  {
   "cell_type": "markdown",
   "id": "4e7e4efb",
   "metadata": {},
   "source": [
    "# Question 1"
   ]
  },
  {
   "cell_type": "markdown",
   "id": "9cfc6fa2",
   "metadata": {},
   "source": [
    "### 1. What does one mean by the term &quot;machine learning&quot;?"
   ]
  },
  {
   "cell_type": "raw",
   "id": "54638eb0",
   "metadata": {},
   "source": [
    "Machine Learning is about building systems that can learn from data. Learning means getting better at some task, with given some performance measure."
   ]
  },
  {
   "cell_type": "markdown",
   "id": "b6051826",
   "metadata": {},
   "source": [
    "# Question 2"
   ]
  },
  {
   "cell_type": "markdown",
   "id": "624df690",
   "metadata": {},
   "source": [
    "### 2.Can you think of 4 distinct types of issues where it shines?"
   ]
  },
  {
   "cell_type": "raw",
   "id": "ec476f77",
   "metadata": {},
   "source": [
    "Machine Learning is great for complex problems for which we have no algorithmic solution, to replace long lists of hand-witten rules, to build systems that adapt to fluctuating environments, and finally to help humans learn."
   ]
  },
  {
   "cell_type": "markdown",
   "id": "6172d714",
   "metadata": {},
   "source": [
    "# Question 3"
   ]
  },
  {
   "cell_type": "markdown",
   "id": "ca6d2f24",
   "metadata": {},
   "source": [
    "### 3.What is a labeled training set, and how does it work?"
   ]
  },
  {
   "cell_type": "raw",
   "id": "57184cee",
   "metadata": {},
   "source": [
    "Labeled training set is a training set that contains the desired solution for each instance. It worked as a output parameter in ML model."
   ]
  },
  {
   "cell_type": "markdown",
   "id": "31e5b915",
   "metadata": {},
   "source": [
    "# Question 4"
   ]
  },
  {
   "cell_type": "markdown",
   "id": "59800255",
   "metadata": {},
   "source": [
    "### 4.What are the two most important tasks that are supervised?`"
   ]
  },
  {
   "cell_type": "raw",
   "id": "78735628",
   "metadata": {},
   "source": [
    "regression and classification"
   ]
  },
  {
   "cell_type": "markdown",
   "id": "d5a6dedc",
   "metadata": {},
   "source": [
    "# Question 5"
   ]
  },
  {
   "cell_type": "markdown",
   "id": "f06f1ece",
   "metadata": {},
   "source": [
    "### 5.Can you think of four examples of unsupervised tasks?"
   ]
  },
  {
   "cell_type": "raw",
   "id": "cf6e9797",
   "metadata": {},
   "source": [
    "clustering, visualization, dimensionality reduction, and\n",
    "association rule learning."
   ]
  },
  {
   "cell_type": "markdown",
   "id": "c0efa846",
   "metadata": {},
   "source": [
    "# Question 6"
   ]
  },
  {
   "cell_type": "markdown",
   "id": "9b417955",
   "metadata": {},
   "source": [
    "### 6.State the machine learning model that would be best to make a robot walk through various unfamiliar terrains?`"
   ]
  },
  {
   "cell_type": "raw",
   "id": "330b942f",
   "metadata": {},
   "source": [
    "Reinforcement Learning"
   ]
  },
  {
   "cell_type": "markdown",
   "id": "aca0afa7",
   "metadata": {},
   "source": [
    "# Question 7"
   ]
  },
  {
   "cell_type": "markdown",
   "id": "9a7ed0bc",
   "metadata": {},
   "source": [
    "### 7.Which algorithm will you use to divide your customers into different groups?"
   ]
  },
  {
   "cell_type": "raw",
   "id": "bb8b9400",
   "metadata": {},
   "source": [
    "If we don’t know how to define the groups, clustering algorithm i.e unsupervised learning.\n",
    "And if we know what groups we would like to have, then classification algorithm i.e. supervised learning."
   ]
  },
  {
   "cell_type": "markdown",
   "id": "ec6870f5",
   "metadata": {},
   "source": [
    "# Question 8"
   ]
  },
  {
   "cell_type": "markdown",
   "id": "4a34ba44",
   "metadata": {},
   "source": [
    "### 8.Will you consider the problem of spam detection to be a supervised or unsupervised learning problem?"
   ]
  },
  {
   "cell_type": "raw",
   "id": "6932b975",
   "metadata": {},
   "source": [
    "Supervisied Learning. Beacuse the algorithm is fed with many emails along with their label (spam or not spam)."
   ]
  },
  {
   "cell_type": "markdown",
   "id": "446a1ce9",
   "metadata": {},
   "source": [
    "# Question 9"
   ]
  },
  {
   "cell_type": "markdown",
   "id": "58240033",
   "metadata": {},
   "source": [
    "### 9.What is the concept of an online learning system?"
   ]
  },
  {
   "cell_type": "raw",
   "id": "105504a2",
   "metadata": {},
   "source": [
    "This can learn incrementally. This makes it capable of adapting rapidly to both changing data and autonomous systems, and of training on very large quantities of data."
   ]
  },
  {
   "cell_type": "markdown",
   "id": "8639bc90",
   "metadata": {},
   "source": [
    "# Question 10"
   ]
  },
  {
   "cell_type": "markdown",
   "id": "5ea47e81",
   "metadata": {},
   "source": [
    "### 10.What is out-of-core learning, and how does it differ from core learning?"
   ]
  },
  {
   "cell_type": "raw",
   "id": "c2bb7af4",
   "metadata": {},
   "source": [
    "Out-of-core algorithms can handle vast quantities of data that cannot fit in a computer’s main memory. An out-of-core learning algorithm chops the data into mini-batches and uses online learning techniques to learn from these mini-batches."
   ]
  },
  {
   "cell_type": "markdown",
   "id": "5e6d1e98",
   "metadata": {},
   "source": [
    "# Question 11"
   ]
  },
  {
   "cell_type": "markdown",
   "id": "7e3879df",
   "metadata": {},
   "source": [
    "### 11.What kind of learning algorithm makes predictions using a similarity measure?"
   ]
  },
  {
   "cell_type": "raw",
   "id": "e0bc84e5",
   "metadata": {},
   "source": [
    "Instance-based learning system"
   ]
  },
  {
   "cell_type": "markdown",
   "id": "8104a6ef",
   "metadata": {},
   "source": [
    "# Question 12"
   ]
  },
  {
   "cell_type": "markdown",
   "id": "2ff891c7",
   "metadata": {},
   "source": [
    "### 12.What&#39;s the difference between a model parameter and a hyperparameter in a learning algorithm?"
   ]
  },
  {
   "cell_type": "raw",
   "id": "f33deb9b",
   "metadata": {},
   "source": [
    "A model has one or more model parameters that determine what it will predict given a new instance (e.g., the slope of a linear model). A learning algorithm tries to find optimal values for these parameters such that the model generalizes well to new instances. A hyperparameter is a parameter of the learning algorithm itself, not of the model (e.g., the amount of regularization to apply)."
   ]
  },
  {
   "cell_type": "markdown",
   "id": "907fc780",
   "metadata": {},
   "source": [
    "# Question 13"
   ]
  },
  {
   "cell_type": "markdown",
   "id": "ea387b63",
   "metadata": {},
   "source": [
    "### 13.What are the criteria that model-based learning algorithms look for? What is the most popular method they use to achieve success? What method do they use to make predictions?"
   ]
  },
  {
   "cell_type": "raw",
   "id": "6fc6d648",
   "metadata": {},
   "source": [
    "Model-based learning algorithms search for an optimal value for the model parameters such that the model will generalize well to new instances. We usually train such systems by minimizing a cost function that measures how bad the system is at making predictions on the training data, plus a penalty for model complexity if the model is regularized. To make predictions, we feed the new instance’s features into the model’s prediction function, using the parameter values found by the\n",
    "learning algorithm."
   ]
  },
  {
   "cell_type": "markdown",
   "id": "4c4b82dd",
   "metadata": {},
   "source": [
    "# Question 14"
   ]
  },
  {
   "cell_type": "markdown",
   "id": "4af86e00",
   "metadata": {},
   "source": [
    "### 14.Can you name four of the most important Machine Learning challenges?"
   ]
  },
  {
   "cell_type": "raw",
   "id": "9fbdc4f1",
   "metadata": {},
   "source": [
    "1. lack of data\n",
    "2. poor data quality\n",
    "3. nonrepresentative data\n",
    "4. uninformative features"
   ]
  },
  {
   "cell_type": "markdown",
   "id": "4d34bd6c",
   "metadata": {},
   "source": [
    "# Question 15"
   ]
  },
  {
   "cell_type": "markdown",
   "id": "b9c694ee",
   "metadata": {},
   "source": [
    "### 15.What happens if the model performs well on the training data but fails to generalize the results to new situations? Can you think of three different options?"
   ]
  },
  {
   "cell_type": "raw",
   "id": "ab125d3c",
   "metadata": {},
   "source": [
    "The model is likely overfitting the training data (or we got extremely lucky on the training data). Possible solutions to overfitting are getting more data, simplifying the model (selecting a simpler algorithm, reducing the number of parameters or features used, or regularizing the model), or reducing the noise in the training data."
   ]
  },
  {
   "cell_type": "markdown",
   "id": "af4be27c",
   "metadata": {},
   "source": [
    "# Question 16"
   ]
  },
  {
   "cell_type": "markdown",
   "id": "ddad6d23",
   "metadata": {},
   "source": [
    "### 16.What exactly is a test set, and why would you need one?"
   ]
  },
  {
   "cell_type": "raw",
   "id": "72ced799",
   "metadata": {},
   "source": [
    "A test set is used to estimate the generalization error that a model will make on new instances, before the model is launched in production."
   ]
  },
  {
   "cell_type": "markdown",
   "id": "e627c64f",
   "metadata": {},
   "source": [
    "# Question 17"
   ]
  },
  {
   "cell_type": "markdown",
   "id": "71fbd9dc",
   "metadata": {},
   "source": [
    "### 17.What is a validation set&#39;s purpose?"
   ]
  },
  {
   "cell_type": "raw",
   "id": "dbc1f73b",
   "metadata": {},
   "source": [
    "A validation set is used to compare models. It makes it possible to select the best model and tune the hyperparameters."
   ]
  },
  {
   "cell_type": "markdown",
   "id": "af50d098",
   "metadata": {},
   "source": [
    "# Question 18"
   ]
  },
  {
   "cell_type": "markdown",
   "id": "1bc56dc5",
   "metadata": {},
   "source": [
    "### 18.What precisely is the train-dev kit, when will you need it, how do you put it to use?"
   ]
  },
  {
   "cell_type": "raw",
   "id": "5bf233c2",
   "metadata": {},
   "source": [
    "The goal of dev-set is to rank the models in term of their accuracy and helps us decide which model to proceed further with. Using Dev set we rank all our models in terms of their accuracy and pick the best performing model."
   ]
  },
  {
   "cell_type": "markdown",
   "id": "c55aac61",
   "metadata": {},
   "source": [
    "# Question 19"
   ]
  },
  {
   "cell_type": "markdown",
   "id": "3211dbb0",
   "metadata": {},
   "source": [
    "### 19.What could go wrong if you use the test set to tune hyperparameters?"
   ]
  },
  {
   "cell_type": "raw",
   "id": "82081ca1",
   "metadata": {},
   "source": [
    "If you tune hyperparameters using the test set, you risk overfitting the test set, and the generalization error you measure will be optimistic"
   ]
  },
  {
   "cell_type": "code",
   "execution_count": null,
   "id": "6bfb1341",
   "metadata": {},
   "outputs": [],
   "source": []
  }
 ],
 "metadata": {
  "kernelspec": {
   "display_name": "Python 3",
   "language": "python",
   "name": "python3"
  },
  "language_info": {
   "codemirror_mode": {
    "name": "ipython",
    "version": 3
   },
   "file_extension": ".py",
   "mimetype": "text/x-python",
   "name": "python",
   "nbconvert_exporter": "python",
   "pygments_lexer": "ipython3",
   "version": "3.8.8"
  }
 },
 "nbformat": 4,
 "nbformat_minor": 5
}
