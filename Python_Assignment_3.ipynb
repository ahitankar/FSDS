{
 "cells": [
  {
   "cell_type": "markdown",
   "metadata": {},
   "source": [
    "# Python Assignment 3"
   ]
  },
  {
   "cell_type": "markdown",
   "metadata": {},
   "source": [
    "# Question 1:"
   ]
  },
  {
   "cell_type": "markdown",
   "metadata": {},
   "source": [
    "Why are functions advantageous to have in your programs?"
   ]
  },
  {
   "cell_type": "raw",
   "metadata": {},
   "source": [
    "If we have functions in our program then we can reuse the code for the same operation by just calling the function instead of writing the whole code again and again.It makes program shorter and easier to read and update."
   ]
  },
  {
   "cell_type": "markdown",
   "metadata": {},
   "source": [
    "# Question 2:"
   ]
  },
  {
   "cell_type": "markdown",
   "metadata": {},
   "source": [
    "When does the code in a function run: when it's specified or when it's called?"
   ]
  },
  {
   "cell_type": "raw",
   "metadata": {},
   "source": [
    "The code inside the function run when it is called."
   ]
  },
  {
   "cell_type": "markdown",
   "metadata": {},
   "source": [
    "# Question 3:"
   ]
  },
  {
   "cell_type": "markdown",
   "metadata": {},
   "source": [
    "What statement creates a function?"
   ]
  },
  {
   "cell_type": "raw",
   "metadata": {},
   "source": [
    "def keyword is the statement for creating the function."
   ]
  },
  {
   "cell_type": "markdown",
   "metadata": {},
   "source": [
    "# Question 4:"
   ]
  },
  {
   "cell_type": "markdown",
   "metadata": {},
   "source": [
    "What is the difference between a function and a function call?"
   ]
  },
  {
   "cell_type": "raw",
   "metadata": {},
   "source": [
    "Function is the block of code that does a required operation and return the result. Whereas function call is the code used to pass control to the function"
   ]
  },
  {
   "cell_type": "markdown",
   "metadata": {},
   "source": [
    "# Question 5:"
   ]
  },
  {
   "cell_type": "markdown",
   "metadata": {},
   "source": [
    "How many global scopes are there in a Python program? How many local scopes?"
   ]
  },
  {
   "cell_type": "raw",
   "metadata": {},
   "source": [
    "There are only 1 global scope per python program. And local scope depends on the the scope of a function. It is created when the function is called. "
   ]
  },
  {
   "cell_type": "markdown",
   "metadata": {},
   "source": [
    "# Question 6:"
   ]
  },
  {
   "cell_type": "markdown",
   "metadata": {},
   "source": [
    "What happens to variables in a local scope when the function call returns?"
   ]
  },
  {
   "cell_type": "raw",
   "metadata": {},
   "source": [
    "A Local Variable retains its value until the next time the function is called. A Local Variable becomes undefined after the function call completes."
   ]
  },
  {
   "cell_type": "markdown",
   "metadata": {},
   "source": [
    "# Question 7:"
   ]
  },
  {
   "cell_type": "markdown",
   "metadata": {},
   "source": [
    "What is the concept of a return value? Is it possible to have a return value in an expression?"
   ]
  },
  {
   "cell_type": "raw",
   "metadata": {},
   "source": [
    "The return value is used to end the execution of function and used to return the result of the function. A return value can be used as part of an expression."
   ]
  },
  {
   "cell_type": "markdown",
   "metadata": {},
   "source": [
    "# Question 8:"
   ]
  },
  {
   "cell_type": "markdown",
   "metadata": {},
   "source": [
    "If a function does not have a return statement, what is the return value of a call to that function?"
   ]
  },
  {
   "cell_type": "raw",
   "metadata": {},
   "source": [
    "Then the return value is None"
   ]
  },
  {
   "cell_type": "markdown",
   "metadata": {},
   "source": [
    "# Question 9:"
   ]
  },
  {
   "cell_type": "markdown",
   "metadata": {},
   "source": [
    "How do you make a function variable refer to the global variable?"
   ]
  },
  {
   "cell_type": "raw",
   "metadata": {},
   "source": [
    "We can do this by the help of global keyword. Declare the variable inside the function as a global.\n",
    "\n",
    "Ex:\n",
    "def fun():\n",
    "    global x \n",
    "    x=\"Aniket\"\n",
    "    return x\n",
    "\n",
    "print(fun() + x)\n",
    "\n",
    "out: AniketAniket"
   ]
  },
  {
   "cell_type": "markdown",
   "metadata": {},
   "source": [
    "# Question 10:"
   ]
  },
  {
   "cell_type": "markdown",
   "metadata": {},
   "source": [
    "What is the data type of None?"
   ]
  },
  {
   "cell_type": "raw",
   "metadata": {},
   "source": [
    "Datatype of None is \"NoneType\""
   ]
  },
  {
   "cell_type": "markdown",
   "metadata": {},
   "source": [
    "\n",
    "# Question 11:"
   ]
  },
  {
   "cell_type": "markdown",
   "metadata": {},
   "source": [
    "What does the sentence import areallyourpetsnamederic do?"
   ]
  },
  {
   "cell_type": "raw",
   "metadata": {},
   "source": [
    "It imports the module areallyourpetsnamederic but it is not the real module in python. So it will give the modulenotfound error."
   ]
  },
  {
   "cell_type": "markdown",
   "metadata": {},
   "source": [
    "# Question 12:"
   ]
  },
  {
   "cell_type": "markdown",
   "metadata": {},
   "source": [
    "If you had a bacon() feature in a spam module, what would you call it after importing spam?"
   ]
  },
  {
   "cell_type": "raw",
   "metadata": {},
   "source": [
    "spam.bacon()"
   ]
  },
  {
   "cell_type": "markdown",
   "metadata": {},
   "source": [
    "# Question 13:"
   ]
  },
  {
   "cell_type": "markdown",
   "metadata": {},
   "source": [
    "What can you do to save a programme from crashing if it encounters an error?"
   ]
  },
  {
   "cell_type": "raw",
   "metadata": {},
   "source": [
    "Will place the code inside a try clause."
   ]
  },
  {
   "cell_type": "markdown",
   "metadata": {},
   "source": [
    "# Question 14:"
   ]
  },
  {
   "cell_type": "markdown",
   "metadata": {},
   "source": [
    "What is the purpose of the try clause? What is the purpose of the except clause?"
   ]
  },
  {
   "cell_type": "raw",
   "metadata": {},
   "source": [
    "The code that could potentially cause an error goes in the try clause.\n",
    "The code that executes if an error happens goes in the except clause."
   ]
  }
 ],
 "metadata": {
  "kernelspec": {
   "display_name": "Python 3",
   "language": "python",
   "name": "python3"
  },
  "language_info": {
   "codemirror_mode": {
    "name": "ipython",
    "version": 3
   },
   "file_extension": ".py",
   "mimetype": "text/x-python",
   "name": "python",
   "nbconvert_exporter": "python",
   "pygments_lexer": "ipython3",
   "version": "3.7.3"
  }
 },
 "nbformat": 4,
 "nbformat_minor": 4
}
