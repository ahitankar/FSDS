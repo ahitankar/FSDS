{
 "cells": [
  {
   "cell_type": "markdown",
   "metadata": {},
   "source": [
    "# Question 1"
   ]
  },
  {
   "cell_type": "markdown",
   "metadata": {},
   "source": [
    "What is the purpose of Python&#39;s OOP?"
   ]
  },
  {
   "cell_type": "raw",
   "metadata": {},
   "source": [
    "Python is a programming language that support Object Oriented Programming. Python's OOP helps to solve the problem by creating the object and calling the object. The concept of OOP in Python focuses on creating reusable code. \n",
    "Some key features are as follows:\n",
    "Object-Oriented Programming makes the program easy to understand as well as efficient.\n",
    "Since the class is sharable, the code can be reused.\n",
    "Data is safe and secure with data abstraction.\n",
    "Polymorphism allows the same interface for different objects, so programmers can write efficient code."
   ]
  },
  {
   "cell_type": "markdown",
   "metadata": {},
   "source": [
    "# Question 2"
   ]
  },
  {
   "cell_type": "markdown",
   "metadata": {},
   "source": [
    "Where does an inheritance search look for an attribute?"
   ]
  },
  {
   "cell_type": "raw",
   "metadata": {},
   "source": [
    "Python searches a namespace tree for an attribute"
   ]
  },
  {
   "cell_type": "markdown",
   "metadata": {},
   "source": [
    "# Question 3"
   ]
  },
  {
   "cell_type": "markdown",
   "metadata": {},
   "source": [
    "How do you distinguish between a class object and an instance object?"
   ]
  },
  {
   "cell_type": "raw",
   "metadata": {},
   "source": [
    "class object refers to the memory address of the class whereas instance object refers to the copy of the object at a particular time."
   ]
  },
  {
   "cell_type": "markdown",
   "metadata": {},
   "source": [
    "# Question 4"
   ]
  },
  {
   "cell_type": "markdown",
   "metadata": {},
   "source": [
    "What makes the first argument in a class’s method function special?"
   ]
  },
  {
   "cell_type": "raw",
   "metadata": {},
   "source": [
    "The first argument in a class's method function makes special because the first parameter of a function in class must be the object itself. We write this parameter as self. It is not a keyword.\n",
    "class test():\n",
    "    def __init__(self,a,b):\n",
    "        self.a=a\n",
    "        self.b=b"
   ]
  },
  {
   "cell_type": "markdown",
   "metadata": {},
   "source": [
    "# Question 5"
   ]
  },
  {
   "cell_type": "markdown",
   "metadata": {},
   "source": [
    "What is the purpose of the __init__ method?"
   ]
  },
  {
   "cell_type": "raw",
   "metadata": {},
   "source": [
    "It is called as a constructor in object oriented terminology. This method is called when an object is created from a class and it allows the class to initialize the attributes of the class."
   ]
  },
  {
   "cell_type": "markdown",
   "metadata": {},
   "source": [
    "# Question 6"
   ]
  },
  {
   "cell_type": "markdown",
   "metadata": {},
   "source": [
    "What is the process for creating a class instance?"
   ]
  },
  {
   "cell_type": "raw",
   "metadata": {},
   "source": [
    "When we create an object, you are creating an instance of a class, therefore \"instantiating\" a class. To create instances of a class, we call the class using class name and pass in whatever arguments its __init__ method accepts."
   ]
  },
  {
   "cell_type": "markdown",
   "metadata": {},
   "source": [
    "# Question 7"
   ]
  },
  {
   "cell_type": "markdown",
   "metadata": {},
   "source": [
    "What is the process for creating a class?"
   ]
  },
  {
   "cell_type": "raw",
   "metadata": {},
   "source": [
    "To create a class, use the keyword class:\n",
    "class Test:\n",
    "    x=\"Aniket\""
   ]
  },
  {
   "cell_type": "markdown",
   "metadata": {},
   "source": [
    "# Question 8"
   ]
  },
  {
   "cell_type": "markdown",
   "metadata": {},
   "source": [
    "How would you define the superclasses of a class?"
   ]
  },
  {
   "cell_type": "raw",
   "metadata": {},
   "source": [
    "Superclasses are the classes that are also called the parent class. The child class inherit the properties of superclass and use them to perfrom the task."
   ]
  }
 ],
 "metadata": {
  "kernelspec": {
   "display_name": "Python 3",
   "language": "python",
   "name": "python3"
  },
  "language_info": {
   "codemirror_mode": {
    "name": "ipython",
    "version": 3
   },
   "file_extension": ".py",
   "mimetype": "text/x-python",
   "name": "python",
   "nbconvert_exporter": "python",
   "pygments_lexer": "ipython3",
   "version": "3.7.3"
  }
 },
 "nbformat": 4,
 "nbformat_minor": 4
}
