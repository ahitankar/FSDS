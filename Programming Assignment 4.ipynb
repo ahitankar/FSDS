{
 "cells": [
  {
   "cell_type": "markdown",
   "metadata": {},
   "source": [
    "# Question 1:"
   ]
  },
  {
   "cell_type": "markdown",
   "metadata": {},
   "source": [
    "Write a Python Program to Find the Factorial of a Number?"
   ]
  },
  {
   "cell_type": "code",
   "execution_count": 8,
   "metadata": {},
   "outputs": [
    {
     "name": "stdout",
     "output_type": "stream",
     "text": [
      "Enter the Number: 6\n",
      "720\n"
     ]
    }
   ],
   "source": [
    "x=int(input(\"Enter the Number: \"))\n",
    "fi=1\n",
    "for i in range(1,x+1):\n",
    "    fi=fi*i\n",
    "print(fi)"
   ]
  },
  {
   "cell_type": "markdown",
   "metadata": {},
   "source": [
    "# Question 2:"
   ]
  },
  {
   "cell_type": "markdown",
   "metadata": {},
   "source": [
    "Write a Python Program to Display the multiplication Table?"
   ]
  },
  {
   "cell_type": "code",
   "execution_count": 13,
   "metadata": {},
   "outputs": [
    {
     "name": "stdout",
     "output_type": "stream",
     "text": [
      "Enter the number: 5\n",
      "5  * 1 = 5\n",
      "5  * 2 = 10\n",
      "5  * 3 = 15\n",
      "5  * 4 = 20\n",
      "5  * 5 = 25\n",
      "5  * 6 = 30\n",
      "5  * 7 = 35\n",
      "5  * 8 = 40\n",
      "5  * 9 = 45\n",
      "5  * 10 = 50\n"
     ]
    }
   ],
   "source": [
    "x=int(input(\"Enter the number: \"))\n",
    "for i in range(1,11):\n",
    "    print(\"{}  * {} = {}\".format(x,i,x*i))"
   ]
  },
  {
   "cell_type": "markdown",
   "metadata": {},
   "source": [
    "# Question 3:"
   ]
  },
  {
   "cell_type": "markdown",
   "metadata": {},
   "source": [
    "Write a Python Program to Print the Fibonacci sequence?"
   ]
  },
  {
   "cell_type": "code",
   "execution_count": 21,
   "metadata": {},
   "outputs": [
    {
     "name": "stdout",
     "output_type": "stream",
     "text": [
      "Enter the term: 7\n",
      "[0, 1, 1, 2, 3, 5, 8]\n"
     ]
    }
   ],
   "source": [
    "x= int(input(\"Enter the term: \"))\n",
    "\n",
    "l=[0,1]\n",
    "if x>3:\n",
    "    for i in range (1,x-1):\n",
    "        l.append(l[-2]+l[-1])\n",
    "print(l)\n",
    "    "
   ]
  },
  {
   "cell_type": "markdown",
   "metadata": {},
   "source": [
    "# Question 4"
   ]
  },
  {
   "cell_type": "markdown",
   "metadata": {},
   "source": [
    "Write a Python Program to Check Armstrong Number?"
   ]
  },
  {
   "cell_type": "code",
   "execution_count": 29,
   "metadata": {},
   "outputs": [
    {
     "name": "stdout",
     "output_type": "stream",
     "text": [
      "Enter the number: 407\n",
      " The no is Armstrong.\n"
     ]
    }
   ],
   "source": [
    "x=int(input(\"Enter the number: \"))\n",
    "sum=0\n",
    "t=x\n",
    "while t>0:\n",
    "    digit= t%10\n",
    "    sum=sum+digit**3\n",
    "    t//=10\n",
    "    \n",
    "if x==sum:\n",
    "    print(\"The no is Armstrong.\")\n",
    "else:\n",
    "    print(\"The no is not Armstrong.\")"
   ]
  },
  {
   "cell_type": "markdown",
   "metadata": {},
   "source": [
    "# Question 5"
   ]
  },
  {
   "cell_type": "markdown",
   "metadata": {},
   "source": [
    "Write a Python Program to Find Armstrong Number in an Interval?"
   ]
  },
  {
   "cell_type": "code",
   "execution_count": 34,
   "metadata": {},
   "outputs": [
    {
     "name": "stdout",
     "output_type": "stream",
     "text": [
      "Enter the start of range: 100\n",
      "Enter the end of range: 2000\n",
      "153\n",
      "370\n",
      "371\n",
      "407\n"
     ]
    }
   ],
   "source": [
    "l=int(input(\"Enter the start of range: \"))\n",
    "h=int(input(\"Enter the end of range: \"))\n",
    "def armstrong(num):\n",
    "    sum=0\n",
    "    t=num\n",
    "    while t>0:\n",
    "        digit= t%10\n",
    "        sum=sum+digit**3\n",
    "        t//=10\n",
    "    \n",
    "    if num==sum:\n",
    "        print(num)\n",
    "        \n",
    "for i in range(l,h):\n",
    "    armstrong(i)"
   ]
  },
  {
   "cell_type": "markdown",
   "metadata": {},
   "source": [
    "# Question 6"
   ]
  },
  {
   "cell_type": "markdown",
   "metadata": {},
   "source": [
    "Write a Python Program to Find the Sum of Natural Numbers?"
   ]
  },
  {
   "cell_type": "code",
   "execution_count": 38,
   "metadata": {},
   "outputs": [
    {
     "name": "stdout",
     "output_type": "stream",
     "text": [
      "Enter the number: 10\n",
      "The sum is:  55\n"
     ]
    }
   ],
   "source": [
    "n=int(input(\"Enter the number: \"))\n",
    "sum=0\n",
    "for i in range(1,n+1):\n",
    "    sum =n*(n+1)/2\n",
    "print(\"The sum is: \",int(sum))"
   ]
  },
  {
   "cell_type": "code",
   "execution_count": null,
   "metadata": {},
   "outputs": [],
   "source": []
  }
 ],
 "metadata": {
  "kernelspec": {
   "display_name": "Python 3",
   "language": "python",
   "name": "python3"
  },
  "language_info": {
   "codemirror_mode": {
    "name": "ipython",
    "version": 3
   },
   "file_extension": ".py",
   "mimetype": "text/x-python",
   "name": "python",
   "nbconvert_exporter": "python",
   "pygments_lexer": "ipython3",
   "version": "3.7.3"
  }
 },
 "nbformat": 4,
 "nbformat_minor": 4
}
