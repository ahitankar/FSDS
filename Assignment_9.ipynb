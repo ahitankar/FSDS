{
 "cells": [
  {
   "cell_type": "markdown",
   "id": "f4ab752c",
   "metadata": {},
   "source": [
    "# Question 1"
   ]
  },
  {
   "cell_type": "markdown",
   "id": "fc9e433e",
   "metadata": {},
   "source": [
    "### 1. To what does a relative path refer?"
   ]
  },
  {
   "cell_type": "raw",
   "id": "fd96c38a",
   "metadata": {},
   "source": [
    "relative path shows current working directory path"
   ]
  },
  {
   "cell_type": "code",
   "execution_count": 5,
   "id": "8e03faac",
   "metadata": {},
   "outputs": [
    {
     "data": {
      "text/plain": [
       "'Assignment_9.ipynb'"
      ]
     },
     "execution_count": 5,
     "metadata": {},
     "output_type": "execute_result"
    }
   ],
   "source": [
    "import os\n",
    "path=\"C:\\\\Users\\\\aniket.itankar\\\\Assignments\\\\Assignment_9.ipynb\"\n",
    "os.path.relpath(path)"
   ]
  },
  {
   "cell_type": "markdown",
   "id": "64b21562",
   "metadata": {},
   "source": [
    "# Question 2"
   ]
  },
  {
   "cell_type": "markdown",
   "id": "b62f0026",
   "metadata": {},
   "source": [
    "### 2. What does an absolute path start with your operating system?"
   ]
  },
  {
   "cell_type": "raw",
   "id": "fc6045e2",
   "metadata": {},
   "source": [
    "absolute path = pwd + relative path\n",
    "absolute path always starts with rootdi directory"
   ]
  },
  {
   "cell_type": "code",
   "execution_count": 6,
   "id": "f05ac759",
   "metadata": {},
   "outputs": [
    {
     "data": {
      "text/plain": [
       "'C:\\\\Users\\\\aniket.itankar\\\\Assignments\\\\Assignment_9.ipynb'"
      ]
     },
     "execution_count": 6,
     "metadata": {},
     "output_type": "execute_result"
    }
   ],
   "source": [
    "os.path.abspath(path)"
   ]
  },
  {
   "cell_type": "markdown",
   "id": "30aebd29",
   "metadata": {},
   "source": [
    "# Question 3"
   ]
  },
  {
   "cell_type": "markdown",
   "id": "3a6306f1",
   "metadata": {},
   "source": [
    "### 3. What do the functions os.getcwd() and os.chdir() do?"
   ]
  },
  {
   "cell_type": "code",
   "execution_count": 10,
   "id": "02179545",
   "metadata": {},
   "outputs": [
    {
     "data": {
      "text/plain": [
       "'C:\\\\Users\\\\aniket.itankar\\\\Assignments'"
      ]
     },
     "execution_count": 10,
     "metadata": {},
     "output_type": "execute_result"
    }
   ],
   "source": [
    "os.getcwd() #gives current working directory"
   ]
  },
  {
   "cell_type": "code",
   "execution_count": 15,
   "id": "70375742",
   "metadata": {
    "scrolled": true
   },
   "outputs": [],
   "source": [
    "os.chdir(\"C:\\\\Users\\\\aniket.itankar\\\\\") #changes the current working directory to the specified path."
   ]
  },
  {
   "cell_type": "markdown",
   "id": "37c748d1",
   "metadata": {},
   "source": [
    "# Question 4"
   ]
  },
  {
   "cell_type": "markdown",
   "id": "032434e7",
   "metadata": {},
   "source": [
    "### 4. What are the . and .. folders?"
   ]
  },
  {
   "cell_type": "raw",
   "id": "8e4b250a",
   "metadata": {},
   "source": [
    "these are not real folder but are special names for path\n",
    "    (.) = current directory\n",
    "    (..)= parent directory"
   ]
  },
  {
   "cell_type": "markdown",
   "id": "eea50fce",
   "metadata": {},
   "source": [
    "# Question 5"
   ]
  },
  {
   "cell_type": "markdown",
   "id": "ea7c8a6b",
   "metadata": {},
   "source": [
    "### 5. In C:\\bacon\\eggs\\spam.txt, which part is the dir name, and which part is the base name?"
   ]
  },
  {
   "cell_type": "raw",
   "id": "196a42a5",
   "metadata": {},
   "source": [
    "C:\\bacon\\eggs --> dir name\n",
    "spam.txt --> base name"
   ]
  },
  {
   "cell_type": "markdown",
   "id": "6ca4090d",
   "metadata": {},
   "source": [
    "# Question 6"
   ]
  },
  {
   "cell_type": "markdown",
   "id": "407e3f7d",
   "metadata": {},
   "source": [
    "### 6. What are the three “mode” arguments that can be passed to the open() function?"
   ]
  },
  {
   "cell_type": "raw",
   "id": "6d32ffc6",
   "metadata": {},
   "source": [
    "These are as follows:\n",
    "    1. 'r' --> open for reading in text mode.\n",
    "    2. 'w' --> open for writing.\n",
    "    3. 'a' --> open for appending."
   ]
  },
  {
   "cell_type": "markdown",
   "id": "1ba38831",
   "metadata": {},
   "source": [
    "# Question 7"
   ]
  },
  {
   "cell_type": "markdown",
   "id": "ae365e49",
   "metadata": {},
   "source": [
    "### 7. What happens if an existing file is opened in write mode?"
   ]
  },
  {
   "cell_type": "raw",
   "id": "c8b3266a",
   "metadata": {},
   "source": [
    "when an existing file is opened in write mode previous content is erased and file is treated as \n",
    "new empty file."
   ]
  },
  {
   "cell_type": "markdown",
   "id": "a5e607b8",
   "metadata": {},
   "source": [
    "# Question 8"
   ]
  },
  {
   "cell_type": "markdown",
   "id": "d7a484cb",
   "metadata": {},
   "source": [
    "### 8. How do you tell the difference between read() and readlines()?"
   ]
  },
  {
   "cell_type": "raw",
   "id": "c7f67a70",
   "metadata": {},
   "source": [
    "read()      --> it iterates over each character.\n",
    "readlines() --> read only single line of the file."
   ]
  },
  {
   "cell_type": "markdown",
   "id": "48044e93",
   "metadata": {},
   "source": [
    "# Question 9"
   ]
  },
  {
   "cell_type": "markdown",
   "id": "74c5b58f",
   "metadata": {},
   "source": [
    "### 9. What data structure does a shelf value resemble?"
   ]
  },
  {
   "cell_type": "raw",
   "id": "d10b0f58",
   "metadata": {},
   "source": [
    "Dictornary is the data structure."
   ]
  }
 ],
 "metadata": {
  "kernelspec": {
   "display_name": "Python 3",
   "language": "python",
   "name": "python3"
  },
  "language_info": {
   "codemirror_mode": {
    "name": "ipython",
    "version": 3
   },
   "file_extension": ".py",
   "mimetype": "text/x-python",
   "name": "python",
   "nbconvert_exporter": "python",
   "pygments_lexer": "ipython3",
   "version": "3.8.8"
  }
 },
 "nbformat": 4,
 "nbformat_minor": 5
}
