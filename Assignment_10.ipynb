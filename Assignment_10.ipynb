{
 "cells": [
  {
   "cell_type": "markdown",
   "id": "21b44a52",
   "metadata": {},
   "source": [
    "# Question 1"
   ]
  },
  {
   "cell_type": "markdown",
   "id": "99333528",
   "metadata": {},
   "source": [
    "###  How do you distinguish between shutil.copy() and shutil.copytree()?"
   ]
  },
  {
   "cell_type": "raw",
   "id": "06c3f3ce",
   "metadata": {},
   "source": [
    "     shutil.copytree() will copy entire folder like branches of trees (all files in it)\n",
    "     whereas shutil.copy() will copy only single folder"
   ]
  },
  {
   "cell_type": "markdown",
   "id": "7a4dc074",
   "metadata": {},
   "source": [
    "# Question 2"
   ]
  },
  {
   "cell_type": "markdown",
   "id": "17973b78",
   "metadata": {},
   "source": [
    "###  What function is used to rename files??"
   ]
  },
  {
   "cell_type": "raw",
   "id": "7ae00f1b",
   "metadata": {},
   "source": [
    "    First import os module then use os.rename() to rename a file."
   ]
  },
  {
   "cell_type": "markdown",
   "id": "c3e649a9",
   "metadata": {},
   "source": [
    "# Question 3"
   ]
  },
  {
   "cell_type": "markdown",
   "id": "a4cf439a",
   "metadata": {},
   "source": [
    "###  What is the difference between the delete functions in the send2trash and shutil modules?"
   ]
  },
  {
   "cell_type": "raw",
   "id": "9c9d1c4c",
   "metadata": {},
   "source": [
    "    send2trash sends file to recycle bin and shutil module deletes file permanantly."
   ]
  },
  {
   "cell_type": "markdown",
   "id": "1aeeba21",
   "metadata": {},
   "source": [
    "# Question 4"
   ]
  },
  {
   "cell_type": "markdown",
   "id": "a511a1c0",
   "metadata": {},
   "source": [
    "### ZipFile objects have a close() method just like File objects’ close() method. What ZipFile method is equivalent to File objects’ open() method?"
   ]
  },
  {
   "cell_type": "raw",
   "id": "284abbe2",
   "metadata": {},
   "source": [
    "    to open or write to a zipfile we use 'w' as second argument similar to file objects open()"
   ]
  },
  {
   "cell_type": "code",
   "execution_count": 4,
   "id": "10df1cb8",
   "metadata": {},
   "outputs": [],
   "source": [
    "import zipfile as zf\n",
    "a = zf.ZipFile(\"xyz.zip\",'w')\n",
    "a.close()"
   ]
  },
  {
   "cell_type": "markdown",
   "id": "b70f41b3",
   "metadata": {},
   "source": [
    "# Question 5"
   ]
  },
  {
   "cell_type": "markdown",
   "id": "e6d7af25",
   "metadata": {},
   "source": [
    "###  Create a programme that searches a folder tree for files with a certain file extension (such as .pdf or .jpg). Copy these files from whatever location they are in to a new folder."
   ]
  },
  {
   "cell_type": "code",
   "execution_count": 5,
   "id": "608daf12",
   "metadata": {},
   "outputs": [],
   "source": [
    "import os\n",
    "import shutil"
   ]
  },
  {
   "cell_type": "code",
   "execution_count": 18,
   "id": "4f1dc973",
   "metadata": {},
   "outputs": [
    {
     "name": "stdout",
     "output_type": "stream",
     "text": [
      "searching --> E:\\data science\\ineuron full stack DS\\Assignments\\Python Basic Assignments\\randomfolder for ['.pdf', '.jpg'] file\n",
      "Coping E:\\data science\\ineuron full stack DS\\Assignments\\Python Basic Assignments\\randomfolder\\Rushikesh_M_Pokale.pdf to E:\\data science\\ineuron full stack DS\\Assignments\\Python Basic Assignments\\destination\n"
     ]
    }
   ],
   "source": [
    "import os, shutil\n",
    "\n",
    "def search_and_copy(folder, extensions, destFolder):\n",
    "    folder = os.path.abspath(folder)\n",
    "    destFolder = os.path.abspath(destFolder)\n",
    "    print('searching --> {} for {} file'.format(folder,extensions))\n",
    "    for foldername, subfolders, filenames in os.walk(folder):\n",
    "        for filename in filenames:\n",
    "            name, extension = os.path.splitext(filename)\n",
    "            if extension in extensions:\n",
    "                fileAbsPath = foldername + os.path.sep + filename\n",
    "                print('Coping', fileAbsPath, 'to', destFolder)\n",
    "                shutil.copy(fileAbsPath, destFolder)\n",
    "\n",
    "extensions = ['.pdf','.jpg']\n",
    "folder = 'randomfolder'\n",
    "destFolder = 'destination'\n",
    "search_and_copy(folder, extensions, destFolder)"
   ]
  }
 ],
 "metadata": {
  "kernelspec": {
   "display_name": "Python 3",
   "language": "python",
   "name": "python3"
  },
  "language_info": {
   "codemirror_mode": {
    "name": "ipython",
    "version": 3
   },
   "file_extension": ".py",
   "mimetype": "text/x-python",
   "name": "python",
   "nbconvert_exporter": "python",
   "pygments_lexer": "ipython3",
   "version": "3.8.8"
  }
 },
 "nbformat": 4,
 "nbformat_minor": 5
}
