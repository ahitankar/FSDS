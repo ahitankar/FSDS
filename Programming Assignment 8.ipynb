{
 "cells": [
  {
   "cell_type": "markdown",
   "metadata": {},
   "source": [
    "# Question 1"
   ]
  },
  {
   "cell_type": "markdown",
   "metadata": {},
   "source": [
    "Write a Python Program to Add Two Matrices?"
   ]
  },
  {
   "cell_type": "code",
   "execution_count": 3,
   "metadata": {},
   "outputs": [
    {
     "name": "stdout",
     "output_type": "stream",
     "text": [
      "[7, 10, 10]\n",
      "[7, 8, 11]\n",
      "[9, 8, 9]\n"
     ]
    }
   ],
   "source": [
    "x=[[1,2,3],\n",
    "   [2,3,6],\n",
    "   [8,7,9]]\n",
    "y=[[6,8,7],\n",
    "   [5,5,5],\n",
    "   [1,1,0]]\n",
    "result=[[0,0,0],\n",
    "        [0,0,0],\n",
    "        [0,0,0]]\n",
    "for i in range(len(x)):\n",
    "    for j in range(len(x[0])):\n",
    "        result[i][j]= x[i][j]+y[i][j]\n",
    "for k in result:\n",
    "    print(k)"
   ]
  },
  {
   "cell_type": "markdown",
   "metadata": {},
   "source": [
    "# Question 2"
   ]
  },
  {
   "cell_type": "markdown",
   "metadata": {},
   "source": [
    "Write a Python Program to Multiply Two Matrices?"
   ]
  },
  {
   "cell_type": "code",
   "execution_count": 4,
   "metadata": {},
   "outputs": [
    {
     "name": "stdout",
     "output_type": "stream",
     "text": [
      "[6, 16, 21]\n",
      "[10, 15, 30]\n",
      "[8, 7, 0]\n"
     ]
    }
   ],
   "source": [
    "x=[[1,2,3],\n",
    "   [2,3,6],\n",
    "   [8,7,9]]\n",
    "y=[[6,8,7],\n",
    "   [5,5,5],\n",
    "   [1,1,0]]\n",
    "result=[[0,0,0],\n",
    "        [0,0,0],\n",
    "        [0,0,0]]\n",
    "for i in range(len(x)):\n",
    "    for j in range(len(x[0])):\n",
    "        result[i][j]= x[i][j]*y[i][j]\n",
    "for k in result:\n",
    "    print(k)"
   ]
  },
  {
   "cell_type": "markdown",
   "metadata": {},
   "source": [
    "# Question 3"
   ]
  },
  {
   "cell_type": "markdown",
   "metadata": {},
   "source": [
    "Write a Python Program to Transpose a Matrix?"
   ]
  },
  {
   "cell_type": "code",
   "execution_count": 5,
   "metadata": {},
   "outputs": [
    {
     "name": "stdout",
     "output_type": "stream",
     "text": [
      "[1, 2, 8]\n",
      "[2, 3, 7]\n",
      "[3, 6, 9]\n"
     ]
    }
   ],
   "source": [
    "x=[[1,2,3],\n",
    "   [2,3,6],\n",
    "   [8,7,9]]\n",
    "result=[[0,0,0],\n",
    "        [0,0,0],\n",
    "        [0,0,0]]\n",
    "for i in range(len(x)):\n",
    "    for j in range(len(x[0])):\n",
    "        result[j][i]= x[i][j]\n",
    "for k in result:\n",
    "    print(k)"
   ]
  },
  {
   "cell_type": "markdown",
   "metadata": {},
   "source": [
    "# Question 4"
   ]
  },
  {
   "cell_type": "markdown",
   "metadata": {},
   "source": [
    "Write a Python Program to Sort Words in Alphabetic Order?"
   ]
  },
  {
   "cell_type": "code",
   "execution_count": 9,
   "metadata": {},
   "outputs": [
    {
     "name": "stdout",
     "output_type": "stream",
     "text": [
      "Enter the String: Hello, I am Aniket Itankar\n",
      "The sorted words are: \n",
      "am\n",
      "aniket\n",
      "hello,\n",
      "i\n",
      "itankar\n"
     ]
    }
   ],
   "source": [
    "x=input(\"Enter the String: \")\n",
    "l=[]\n",
    "for word in x.split():\n",
    "    l.append(word.lower())\n",
    "l.sort()\n",
    "print(\"The sorted words are: \")\n",
    "for i in l:\n",
    "    print(i)"
   ]
  },
  {
   "cell_type": "markdown",
   "metadata": {},
   "source": [
    "# Question 5"
   ]
  },
  {
   "cell_type": "markdown",
   "metadata": {},
   "source": [
    "Write a Python Program to Remove Punctuation From a String?"
   ]
  },
  {
   "cell_type": "code",
   "execution_count": 11,
   "metadata": {},
   "outputs": [
    {
     "name": "stdout",
     "output_type": "stream",
     "text": [
      "Enter the String: Hey! how are you? \n",
      "Hey how are you \n"
     ]
    }
   ],
   "source": [
    "x=input(\"Enter the String: \")\n",
    "p='''!@#$%^&*()_-+={}[];\"\",./?<>:'''\n",
    "result=\"\"\n",
    "for c  in x:\n",
    "    if c not in p:\n",
    "        result=result+c\n",
    "print(result)\n",
    "    "
   ]
  }
 ],
 "metadata": {
  "kernelspec": {
   "display_name": "Python 3",
   "language": "python",
   "name": "python3"
  },
  "language_info": {
   "codemirror_mode": {
    "name": "ipython",
    "version": 3
   },
   "file_extension": ".py",
   "mimetype": "text/x-python",
   "name": "python",
   "nbconvert_exporter": "python",
   "pygments_lexer": "ipython3",
   "version": "3.7.3"
  }
 },
 "nbformat": 4,
 "nbformat_minor": 4
}
